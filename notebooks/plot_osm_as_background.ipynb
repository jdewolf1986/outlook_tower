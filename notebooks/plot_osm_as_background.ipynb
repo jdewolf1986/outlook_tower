{
 "cells": [
  {
   "cell_type": "code",
   "execution_count": 1,
   "metadata": {},
   "outputs": [
    {
     "name": "stdout",
     "output_type": "stream",
     "text": [
      "Requirement already satisfied: folium in c:\\git\\outlook_tower\\wt\\lib\\site-packages (0.14.0)\n",
      "Requirement already satisfied: streamlit in c:\\git\\outlook_tower\\wt\\lib\\site-packages (1.24.0)\n",
      "Requirement already satisfied: streamlit_folium in c:\\git\\outlook_tower\\wt\\lib\\site-packages (0.12.0)\n",
      "Requirement already satisfied: branca>=0.6.0 in c:\\git\\outlook_tower\\wt\\lib\\site-packages (from folium) (0.6.0)\n",
      "Requirement already satisfied: jinja2>=2.9 in c:\\git\\outlook_tower\\wt\\lib\\site-packages (from folium) (3.1.2)\n",
      "Requirement already satisfied: numpy in c:\\git\\outlook_tower\\wt\\lib\\site-packages (from folium) (1.25.0)\n",
      "Requirement already satisfied: requests in c:\\git\\outlook_tower\\wt\\lib\\site-packages (from folium) (2.31.0)\n",
      "Requirement already satisfied: altair<6,>=4.0 in c:\\git\\outlook_tower\\wt\\lib\\site-packages (from streamlit) (5.0.1)\n",
      "Requirement already satisfied: blinker<2,>=1.0.0 in c:\\git\\outlook_tower\\wt\\lib\\site-packages (from streamlit) (1.6.2)\n",
      "Requirement already satisfied: cachetools<6,>=4.0 in c:\\git\\outlook_tower\\wt\\lib\\site-packages (from streamlit) (5.3.1)\n",
      "Requirement already satisfied: click<9,>=7.0 in c:\\git\\outlook_tower\\wt\\lib\\site-packages (from streamlit) (8.1.3)\n",
      "Requirement already satisfied: importlib-metadata<7,>=1.4 in c:\\git\\outlook_tower\\wt\\lib\\site-packages (from streamlit) (6.7.0)\n",
      "Requirement already satisfied: packaging<24,>=14.1 in c:\\git\\outlook_tower\\wt\\lib\\site-packages (from streamlit) (23.1)\n",
      "Requirement already satisfied: pandas<3,>=0.25 in c:\\git\\outlook_tower\\wt\\lib\\site-packages (from streamlit) (2.0.3)\n",
      "Requirement already satisfied: pillow<10,>=6.2.0 in c:\\git\\outlook_tower\\wt\\lib\\site-packages (from streamlit) (9.5.0)\n",
      "Requirement already satisfied: protobuf<5,>=3.20 in c:\\git\\outlook_tower\\wt\\lib\\site-packages (from streamlit) (4.23.3)\n",
      "Requirement already satisfied: pyarrow>=4.0 in c:\\git\\outlook_tower\\wt\\lib\\site-packages (from streamlit) (12.0.1)\n",
      "Requirement already satisfied: pympler<2,>=0.9 in c:\\git\\outlook_tower\\wt\\lib\\site-packages (from streamlit) (1.0.1)\n",
      "Requirement already satisfied: python-dateutil<3,>=2 in c:\\git\\outlook_tower\\wt\\lib\\site-packages (from streamlit) (2.8.2)\n",
      "Requirement already satisfied: rich<14,>=10.11.0 in c:\\git\\outlook_tower\\wt\\lib\\site-packages (from streamlit) (13.4.2)\n",
      "Requirement already satisfied: tenacity<9,>=8.0.0 in c:\\git\\outlook_tower\\wt\\lib\\site-packages (from streamlit) (8.2.2)\n",
      "Requirement already satisfied: toml<2 in c:\\git\\outlook_tower\\wt\\lib\\site-packages (from streamlit) (0.10.2)\n",
      "Requirement already satisfied: typing-extensions<5,>=4.0.1 in c:\\git\\outlook_tower\\wt\\lib\\site-packages (from streamlit) (4.7.1)\n",
      "Requirement already satisfied: tzlocal<5,>=1.1 in c:\\git\\outlook_tower\\wt\\lib\\site-packages (from streamlit) (4.3.1)\n",
      "Requirement already satisfied: validators<1,>=0.2 in c:\\git\\outlook_tower\\wt\\lib\\site-packages (from streamlit) (0.20.0)\n",
      "Requirement already satisfied: gitpython!=3.1.19,<4,>=3 in c:\\git\\outlook_tower\\wt\\lib\\site-packages (from streamlit) (3.1.31)\n",
      "Requirement already satisfied: pydeck<1,>=0.1.dev5 in c:\\git\\outlook_tower\\wt\\lib\\site-packages (from streamlit) (0.8.1b0)\n",
      "Requirement already satisfied: tornado<7,>=6.0.3 in c:\\git\\outlook_tower\\wt\\lib\\site-packages (from streamlit) (6.3.2)\n",
      "Requirement already satisfied: watchdog in c:\\git\\outlook_tower\\wt\\lib\\site-packages (from streamlit) (3.0.0)\n",
      "Requirement already satisfied: jsonschema>=3.0 in c:\\git\\outlook_tower\\wt\\lib\\site-packages (from altair<6,>=4.0->streamlit) (4.17.3)\n",
      "Requirement already satisfied: toolz in c:\\git\\outlook_tower\\wt\\lib\\site-packages (from altair<6,>=4.0->streamlit) (0.12.0)\n",
      "Requirement already satisfied: colorama in c:\\git\\outlook_tower\\wt\\lib\\site-packages (from click<9,>=7.0->streamlit) (0.4.6)\n",
      "Requirement already satisfied: gitdb<5,>=4.0.1 in c:\\git\\outlook_tower\\wt\\lib\\site-packages (from gitpython!=3.1.19,<4,>=3->streamlit) (4.0.10)\n",
      "Requirement already satisfied: zipp>=0.5 in c:\\git\\outlook_tower\\wt\\lib\\site-packages (from importlib-metadata<7,>=1.4->streamlit) (3.15.0)\n",
      "Requirement already satisfied: MarkupSafe>=2.0 in c:\\git\\outlook_tower\\wt\\lib\\site-packages (from jinja2>=2.9->folium) (2.1.3)\n",
      "Requirement already satisfied: pytz>=2020.1 in c:\\git\\outlook_tower\\wt\\lib\\site-packages (from pandas<3,>=0.25->streamlit) (2023.3)\n",
      "Requirement already satisfied: tzdata>=2022.1 in c:\\git\\outlook_tower\\wt\\lib\\site-packages (from pandas<3,>=0.25->streamlit) (2023.3)\n",
      "Requirement already satisfied: six>=1.5 in c:\\git\\outlook_tower\\wt\\lib\\site-packages (from python-dateutil<3,>=2->streamlit) (1.16.0)\n",
      "Requirement already satisfied: charset-normalizer<4,>=2 in c:\\git\\outlook_tower\\wt\\lib\\site-packages (from requests->folium) (3.1.0)\n",
      "Requirement already satisfied: idna<4,>=2.5 in c:\\git\\outlook_tower\\wt\\lib\\site-packages (from requests->folium) (3.4)\n",
      "Requirement already satisfied: urllib3<3,>=1.21.1 in c:\\git\\outlook_tower\\wt\\lib\\site-packages (from requests->folium) (2.0.3)\n",
      "Requirement already satisfied: certifi>=2017.4.17 in c:\\git\\outlook_tower\\wt\\lib\\site-packages (from requests->folium) (2023.5.7)\n",
      "Requirement already satisfied: markdown-it-py>=2.2.0 in c:\\git\\outlook_tower\\wt\\lib\\site-packages (from rich<14,>=10.11.0->streamlit) (3.0.0)\n",
      "Requirement already satisfied: pygments<3.0.0,>=2.13.0 in c:\\git\\outlook_tower\\wt\\lib\\site-packages (from rich<14,>=10.11.0->streamlit) (2.15.1)\n",
      "Requirement already satisfied: pytz-deprecation-shim in c:\\git\\outlook_tower\\wt\\lib\\site-packages (from tzlocal<5,>=1.1->streamlit) (0.1.0.post0)\n",
      "Requirement already satisfied: decorator>=3.4.0 in c:\\git\\outlook_tower\\wt\\lib\\site-packages (from validators<1,>=0.2->streamlit) (5.1.1)\n",
      "Requirement already satisfied: smmap<6,>=3.0.1 in c:\\git\\outlook_tower\\wt\\lib\\site-packages (from gitdb<5,>=4.0.1->gitpython!=3.1.19,<4,>=3->streamlit) (5.0.0)\n",
      "Requirement already satisfied: attrs>=17.4.0 in c:\\git\\outlook_tower\\wt\\lib\\site-packages (from jsonschema>=3.0->altair<6,>=4.0->streamlit) (23.1.0)\n",
      "Requirement already satisfied: pyrsistent!=0.17.0,!=0.17.1,!=0.17.2,>=0.14.0 in c:\\git\\outlook_tower\\wt\\lib\\site-packages (from jsonschema>=3.0->altair<6,>=4.0->streamlit) (0.19.3)\n",
      "Requirement already satisfied: mdurl~=0.1 in c:\\git\\outlook_tower\\wt\\lib\\site-packages (from markdown-it-py>=2.2.0->rich<14,>=10.11.0->streamlit) (0.1.2)\n",
      "Note: you may need to restart the kernel to use updated packages.\n"
     ]
    },
    {
     "name": "stderr",
     "output_type": "stream",
     "text": [
      "\n",
      "[notice] A new release of pip available: 22.3.1 -> 23.1.2\n",
      "[notice] To update, run: python.exe -m pip install --upgrade pip\n"
     ]
    }
   ],
   "source": [
    "pip install folium streamlit streamlit_folium"
   ]
  },
  {
   "cell_type": "code",
   "execution_count": null,
   "metadata": {},
   "outputs": [],
   "source": [
    "import folium\n",
    "import streamlit as st\n",
    "from streamlit_folium import folium_static\n",
    "\n",
    "st.title('Map with OpenStreetMap Background')\n",
    "\n",
    "# Create a Folium map object centered at a specific location\n",
    "map_osm = folium.Map(location=[51.53576193258828, 4.450525045394898], zoom_start=12)\n",
    "\n",
    "# Add OpenStreetMap tiles as the base layer\n",
    "folium.TileLayer('openstreetmap').add_to(map_osm)\n",
    "\n",
    "# Add markers or other map layers as needed\n",
    "folium.Marker(location=[40.7128, -74.0060], popup='New York City').add_to(map_osm)\n",
    "\n",
    "# Display the map using the folium_static function\n",
    "folium_static(map_osm)\n"
   ]
  }
 ],
 "metadata": {
  "kernelspec": {
   "display_name": "wt",
   "language": "python",
   "name": "python3"
  },
  "language_info": {
   "codemirror_mode": {
    "name": "ipython",
    "version": 3
   },
   "file_extension": ".py",
   "mimetype": "text/x-python",
   "name": "python",
   "nbconvert_exporter": "python",
   "pygments_lexer": "ipython3",
   "version": "3.11.2"
  },
  "orig_nbformat": 4
 },
 "nbformat": 4,
 "nbformat_minor": 2
}
