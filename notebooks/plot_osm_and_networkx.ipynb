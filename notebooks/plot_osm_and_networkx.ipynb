{
 "cells": [
  {
   "cell_type": "code",
   "execution_count": 1,
   "metadata": {},
   "outputs": [],
   "source": [
    "# import networkx as nx\n",
    "# import osmnx as ox\n",
    "# import folium\n"
   ]
  },
  {
   "cell_type": "code",
   "execution_count": null,
   "metadata": {},
   "outputs": [],
   "source": [
    "\n",
    "# # Define the location you want to retrieve OpenStreetMap data for\n",
    "# # place_name = 'Piedmont, California, USA'\n",
    "# place_name = 'Eindhoven, Noord-Brabant, Nederland'\n",
    "\n",
    "# # Retrieve the OpenStreetMap data as a NetworkX graph\n",
    "# graph = ox.graph_from_place(place_name, network_type=\"all\", simplify=True)\n",
    "\n",
    "# # Convert the NetworkX graph to a folium map\n",
    "# map_osm = ox.plot_graph_folium(graph, popup_attribute=\"name\", weight=2, color=\"blue\")\n",
    "\n",
    "# # Display the map\n",
    "# map_osm"
   ]
  },
  {
   "cell_type": "code",
   "execution_count": null,
   "metadata": {},
   "outputs": [],
   "source": []
  }
 ],
 "metadata": {
  "kernelspec": {
   "display_name": "wt",
   "language": "python",
   "name": "python3"
  },
  "language_info": {
   "codemirror_mode": {
    "name": "ipython",
    "version": 3
   },
   "file_extension": ".py",
   "mimetype": "text/x-python",
   "name": "python",
   "nbconvert_exporter": "python",
   "pygments_lexer": "ipython3",
   "version": "3.11.2"
  },
  "orig_nbformat": 4
 },
 "nbformat": 4,
 "nbformat_minor": 2
}
