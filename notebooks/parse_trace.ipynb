{
 "cells": [
  {
   "cell_type": "code",
   "execution_count": 2,
   "metadata": {},
   "outputs": [],
   "source": [
    "import pandas as pd"
   ]
  },
  {
   "cell_type": "code",
   "execution_count": 3,
   "metadata": {},
   "outputs": [],
   "source": [
    "filename= r\"..\\data\\bdm_e_ls_kabel_202307051411.csv\""
   ]
  },
  {
   "cell_type": "code",
   "execution_count": 4,
   "metadata": {},
   "outputs": [],
   "source": [
    "# get df\n",
    "df = pd.read_csv(filename, sep=';')\n",
    "\n",
    "# Define the WKT string\n",
    "wkt_string = df['ligging_kaart'][0]\n",
    "\n",
    "# Extract the coordinates from the WKT string\n",
    "coordinates = []\n",
    "cleaned_wkt = wkt_string.replace('MULTILINESTRING ((', '').replace('))', '')  # Remove unnecessary characters\n",
    "line_strings = cleaned_wkt.split(', ')  # Split into individual line strings\n",
    "\n",
    "for line_string in line_strings:\n",
    "    points = line_string.split(', ')\n",
    "    for point in points:\n",
    "        x, y = map(float, point.split(' '))\n",
    "        coordinates.append((x, y))\n",
    "\n",
    "# Create a dictionary with IDs associated with each tuple\n",
    "coordinates_dict = {i: coord for i, coord in enumerate(coordinates)}\n"
   ]
  },
  {
   "cell_type": "code",
   "execution_count": 5,
   "metadata": {},
   "outputs": [
    {
     "data": {
      "text/plain": [
       "{0: (211133.478, 373021.158),\n",
       " 1: (211144.388, 373000.0),\n",
       " 2: (211147.59100000001, 372994.48),\n",
       " 3: (211149.702, 372990.841),\n",
       " 4: (211152.62900000002, 372985.12200000003),\n",
       " 5: (211152.89500000002, 372984.641),\n",
       " 6: (211155.13, 372980.609),\n",
       " 7: (211158.733, 372974.344),\n",
       " 8: (211161.578, 372969.396),\n",
       " 9: (211164.47400000002, 372964.106),\n",
       " 10: (211174.446, 372945.886),\n",
       " 11: (211174.487, 372945.824),\n",
       " 12: (211174.605, 372945.67600000004),\n",
       " 13: (211174.61000000002, 372945.67),\n",
       " 14: (211174.74300000002, 372945.55100000004),\n",
       " 15: (211174.89500000002, 372945.457),\n",
       " 16: (211174.915, 372945.447),\n",
       " 17: (211175.09900000002, 372945.376),\n",
       " 18: (211175.117, 372945.371),\n",
       " 19: (211175.278, 372945.34),\n",
       " 20: (211175.29200000002, 372945.338),\n",
       " 21: (211175.432, 372945.33400000003),\n",
       " 22: (211175.574, 372945.348),\n",
       " 23: (211175.71600000001, 372945.37200000003),\n",
       " 24: (211176.073, 372945.43700000003),\n",
       " 25: (211181.05000000002, 372946.34),\n",
       " 26: (211181.342, 372946.36),\n",
       " 27: (211181.378, 372946.358),\n",
       " 28: (211181.598, 372946.319),\n",
       " 29: (211181.615, 372946.313),\n",
       " 30: (211181.79200000002, 372946.234),\n",
       " 31: (211181.798, 372946.231),\n",
       " 32: (211181.948, 372946.123),\n",
       " 33: (211181.968, 372946.106),\n",
       " 34: (211182.063, 372946.00800000003),\n",
       " 35: (211182.142, 372945.89400000003),\n",
       " 36: (211182.461, 372945.333),\n",
       " 37: (211183.48, 372943.514),\n",
       " 38: (211188.30000000002, 372934.913),\n",
       " 39: (211189.288, 372933.148),\n",
       " 40: (211189.448, 372932.841),\n",
       " 41: (211189.456, 372932.82300000003),\n",
       " 42: (211189.566, 372932.531),\n",
       " 43: (211189.5885, 372932.38325),\n",
       " 44: (211189.574, 372932.234),\n",
       " 45: (211189.479, 372931.943),\n",
       " 46: (211189.44700000001, 372931.87),\n",
       " 47: (211189.35475, 372931.71625),\n",
       " 48: (211189.22400000002, 372931.593),\n",
       " 49: (211188.913, 372931.392),\n",
       " 50: (211187.388, 372930.538),\n",
       " 51: (211185.0, 372929.231),\n",
       " 52: (211184.71, 372929.037),\n",
       " 53: (211184.668, 372929.004),\n",
       " 54: (211184.502, 372928.822),\n",
       " 55: (211184.391, 372928.599),\n",
       " 56: (211184.383, 372928.575),\n",
       " 57: (211184.336, 372928.353),\n",
       " 58: (211184.33625, 372928.23875),\n",
       " 59: (211184.35700000002, 372928.126),\n",
       " 60: (211184.46925000002, 372927.795),\n",
       " 61: (211184.62, 372927.48),\n",
       " 62: (211184.673, 372927.385),\n",
       " 63: (211193.678, 372911.109),\n",
       " 64: (211201.949, 372896.309),\n",
       " 65: (211211.247, 372879.314),\n",
       " 66: (211220.75100000002, 372862.869),\n",
       " 67: (211233.08800000002, 372841.518)}"
      ]
     },
     "execution_count": 5,
     "metadata": {},
     "output_type": "execute_result"
    }
   ],
   "source": [
    "coordinates_dict"
   ]
  },
  {
   "cell_type": "code",
   "execution_count": 7,
   "metadata": {},
   "outputs": [],
   "source": [
    "import networkx as nx\n",
    "import folium\n",
    "import streamlit as st\n",
    "from streamlit_folium import folium_static\n",
    "import matplotlib.pyplot as plt\n"
   ]
  },
  {
   "cell_type": "code",
   "execution_count": 8,
   "metadata": {},
   "outputs": [
    {
     "name": "stderr",
     "output_type": "stream",
     "text": [
      "2023-07-05 15:49:06.964 \n",
      "  \u001b[33m\u001b[1mWarning:\u001b[0m to view this Streamlit app on a browser, run it with the following\n",
      "  command:\n",
      "\n",
      "    streamlit run c:\\git\\outlook_tower\\wt\\Lib\\site-packages\\ipykernel_launcher.py [ARGUMENTS]\n"
     ]
    },
    {
     "data": {
      "image/png": "[encoded data removed]",
      "text/plain": [
       "<Figure size 640x480 with 1 Axes>"
      ]
     },
     "metadata": {},
     "output_type": "display_data"
    }
   ],
   "source": [
    "\n",
    "st.title('Graph with OpenStreetMap Background')\n",
    "\n",
    "# Create an empty NetworkX graph\n",
    "graph = nx.Graph()\n",
    "\n",
    "# Add nodes to the graph using the coordinates from the dictionary\n",
    "for node_id, coordinates in coordinates_dict.items():\n",
    "    graph.add_node(node_id, pos=coordinates)\n",
    "\n",
    "# Create a Folium map object\n",
    "map_osm = folium.Map(location=[coordinates_dict[0][1], coordinates_dict[0][0]], zoom_start=14)\n",
    "\n",
    "# Add OpenStreetMap tiles as the base layer\n",
    "folium.TileLayer('openstreetmap').add_to(map_osm)\n",
    "\n",
    "# Add the nodes as markers on the map\n",
    "for node_id, coordinates in coordinates_dict.items():\n",
    "    folium.Marker(location=[coordinates[1], coordinates[0]], popup=str(node_id)).add_to(map_osm)\n",
    "\n",
    "# Display the map using the folium_static function\n",
    "folium_static(map_osm)\n",
    "\n",
    "# Plot the graph\n",
    "nx.draw(graph, pos=nx.get_node_attributes(graph, 'pos'), with_labels=False, node_size=10)\n",
    "\n",
    "# Display the graph using Matplotlib\n",
    "plt.show()\n"
   ]
  },
  {
   "cell_type": "code",
   "execution_count": null,
   "metadata": {},
   "outputs": [],
   "source": []
  }
 ],
 "metadata": {
  "kernelspec": {
   "display_name": "wt",
   "language": "python",
   "name": "python3"
  },
  "language_info": {
   "codemirror_mode": {
    "name": "ipython",
    "version": 3
   },
   "file_extension": ".py",
   "mimetype": "text/x-python",
   "name": "python",
   "nbconvert_exporter": "python",
   "pygments_lexer": "ipython3",
   "version": "3.11.2"
  },
  "orig_nbformat": 4
 },
 "nbformat": 4,
 "nbformat_minor": 2
}
